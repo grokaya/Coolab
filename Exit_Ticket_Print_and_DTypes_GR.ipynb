{
  "nbformat": 4,
  "nbformat_minor": 0,
  "metadata": {
    "colab": {
      "provenance": []
    },
    "kernelspec": {
      "name": "python3",
      "display_name": "Python 3"
    },
    "language_info": {
      "name": "python"
    }
  },
  "cells": [
    {
      "cell_type": "markdown",
      "metadata": {
        "id": "F1gmTOXrOz8o"
      },
      "source": [
        "# Data Types in Python\n",
        "\n",
        "This notebook is aimed at shedding some light on the different data types in Python. This shall form a strong foundation for your programming and Data Science journey."
      ]
    },
    {
      "cell_type": "markdown",
      "metadata": {
        "id": "7QqpOZ_eOz8s"
      },
      "source": [
        "## Numeric Data Type"
      ]
    },
    {
      "cell_type": "markdown",
      "metadata": {
        "id": "LUutoZFPOz8u"
      },
      "source": [
        "You can check the data type of an object using the `type()` command.\n",
        "The syntax looks like this: `type(variableName)`"
      ]
    },
    {
      "cell_type": "code",
      "source": [
        "type(\"Garima\")"
      ],
      "metadata": {
        "colab": {
          "base_uri": "https://localhost:8080/"
        },
        "id": "bmqKbcOmr1v0",
        "outputId": "3816c900-e7c1-4914-fd8f-4453f6edcdd6"
      },
      "execution_count": 4,
      "outputs": [
        {
          "output_type": "execute_result",
          "data": {
            "text/plain": [
              "str"
            ]
          },
          "metadata": {},
          "execution_count": 4
        }
      ]
    },
    {
      "cell_type": "code",
      "source": [
        "type('Rokaya')"
      ],
      "metadata": {
        "colab": {
          "base_uri": "https://localhost:8080/"
        },
        "id": "XWKIl0ULsDgT",
        "outputId": "fce416c2-aa86-46a4-ab4c-4f9676bcf641"
      },
      "execution_count": 5,
      "outputs": [
        {
          "output_type": "execute_result",
          "data": {
            "text/plain": [
              "str"
            ]
          },
          "metadata": {},
          "execution_count": 5
        }
      ]
    },
    {
      "cell_type": "code",
      "source": [
        "type('9')"
      ],
      "metadata": {
        "colab": {
          "base_uri": "https://localhost:8080/"
        },
        "id": "FDpwnL9bsGmA",
        "outputId": "52f9a90e-741a-4f89-cfd6-51ed6fa53e6d"
      },
      "execution_count": 6,
      "outputs": [
        {
          "output_type": "execute_result",
          "data": {
            "text/plain": [
              "str"
            ]
          },
          "metadata": {},
          "execution_count": 6
        }
      ]
    },
    {
      "cell_type": "code",
      "source": [
        "type(9)"
      ],
      "metadata": {
        "colab": {
          "base_uri": "https://localhost:8080/"
        },
        "id": "_VM4tuObsK0H",
        "outputId": "1d7009fa-5a98-45a6-aa05-7edd331bb627"
      },
      "execution_count": 7,
      "outputs": [
        {
          "output_type": "execute_result",
          "data": {
            "text/plain": [
              "int"
            ]
          },
          "metadata": {},
          "execution_count": 7
        }
      ]
    },
    {
      "cell_type": "code",
      "source": [
        "type(True)"
      ],
      "metadata": {
        "colab": {
          "base_uri": "https://localhost:8080/"
        },
        "id": "GOBmdbEUsjp_",
        "outputId": "0ff64b1c-8418-4b46-f35d-c4f52e5cc4bc"
      },
      "execution_count": 9,
      "outputs": [
        {
          "output_type": "execute_result",
          "data": {
            "text/plain": [
              "bool"
            ]
          },
          "metadata": {},
          "execution_count": 9
        }
      ]
    },
    {
      "cell_type": "code",
      "source": [
        "type(0.123)"
      ],
      "metadata": {
        "colab": {
          "base_uri": "https://localhost:8080/"
        },
        "id": "vJrTK9g0ssEy",
        "outputId": "b9c7ce38-82d7-4355-b5d8-a3d005064a46"
      },
      "execution_count": 10,
      "outputs": [
        {
          "output_type": "execute_result",
          "data": {
            "text/plain": [
              "float"
            ]
          },
          "metadata": {},
          "execution_count": 10
        }
      ]
    },
    {
      "cell_type": "code",
      "source": [
        "type(range(5))"
      ],
      "metadata": {
        "colab": {
          "base_uri": "https://localhost:8080/"
        },
        "id": "I28fygMZsvdq",
        "outputId": "c6cd23d5-9c99-42af-8196-d63ac80008ae"
      },
      "execution_count": 11,
      "outputs": [
        {
          "output_type": "execute_result",
          "data": {
            "text/plain": [
              "range"
            ]
          },
          "metadata": {},
          "execution_count": 11
        }
      ]
    },
    {
      "cell_type": "markdown",
      "source": [
        "### Your turn now.\n",
        "Store the following into three different objects and check their data types:\n",
        "* 2\n",
        "* 1086J\n",
        "* 3.14567"
      ],
      "metadata": {
        "id": "OIUTZNCXP5i5"
      }
    },
    {
      "cell_type": "code",
      "execution_count": 14,
      "metadata": {
        "id": "NDyorQr3Oz8y",
        "colab": {
          "base_uri": "https://localhost:8080/"
        },
        "outputId": "cdac0cfd-6077-4fea-e577-4a3edf409819"
      },
      "outputs": [
        {
          "output_type": "execute_result",
          "data": {
            "text/plain": [
              "int"
            ]
          },
          "metadata": {},
          "execution_count": 14
        }
      ],
      "source": [
        "# Create an object with a value of 2\n",
        "\n",
        "object = 2\n",
        "type(object)\n",
        "# Check the data type\n",
        "\n"
      ]
    },
    {
      "cell_type": "code",
      "execution_count": 15,
      "metadata": {
        "id": "yCnIeFx8UOQJ",
        "colab": {
          "base_uri": "https://localhost:8080/"
        },
        "outputId": "768900bc-d6a0-4b67-d406-16eaacba545d"
      },
      "outputs": [
        {
          "output_type": "execute_result",
          "data": {
            "text/plain": [
              "complex"
            ]
          },
          "metadata": {},
          "execution_count": 15
        }
      ],
      "source": [
        "# Create an object with a value of 1086J\n",
        "object = 1086J\n",
        "type(object)\n",
        "# Check the data type\n",
        "\n",
        "# Check the data type\n",
        "\n"
      ]
    },
    {
      "cell_type": "code",
      "execution_count": 16,
      "metadata": {
        "id": "QCsczuMrUOZg",
        "colab": {
          "base_uri": "https://localhost:8080/"
        },
        "outputId": "74bd10ab-f5d0-46ba-8a55-d566d921b61c"
      },
      "outputs": [
        {
          "output_type": "execute_result",
          "data": {
            "text/plain": [
              "float"
            ]
          },
          "metadata": {},
          "execution_count": 16
        }
      ],
      "source": [
        "# Create an object with a value of 3.14567\n",
        "object = 3.14567\n",
        "type(object)\n",
        "# Check the data type\n",
        "\n",
        "# Check the data type\n",
        "\n"
      ]
    },
    {
      "cell_type": "markdown",
      "metadata": {
        "id": "PI5eLU4mOz80"
      },
      "source": [
        "## String Data Type"
      ]
    },
    {
      "cell_type": "markdown",
      "metadata": {
        "id": "a-eIVjF9Oz80"
      },
      "source": [
        "String Data type usually is used to store text. The data to be stored in this data type is enclosed between single ('') or double (\"\") quotes.\n",
        "Recall that you printed your name in the previous Notebook. That was string data type.\n",
        "Let's look at an example."
      ]
    },
    {
      "cell_type": "code",
      "execution_count": 20,
      "metadata": {
        "id": "dUYETGSROz80",
        "colab": {
          "base_uri": "https://localhost:8080/",
          "height": 52
        },
        "outputId": "33468bd6-d16c-46e1-efbe-ece0734ec17a"
      },
      "outputs": [
        {
          "output_type": "stream",
          "name": "stdout",
          "text": [
            "Garima Rokaya\n"
          ]
        },
        {
          "output_type": "execute_result",
          "data": {
            "text/plain": [
              "'Garima Rokaya'"
            ],
            "application/vnd.google.colaboratory.intrinsic+json": {
              "type": "string"
            }
          },
          "metadata": {},
          "execution_count": 20
        }
      ],
      "source": [
        "# Printing your name\n",
        "My_Name = \"Garima Rokaya\"\n",
        "print(My_Name)\n",
        "\n",
        "# Check the results of the My_Name variable\n",
        "My_Name"
      ]
    },
    {
      "cell_type": "code",
      "execution_count": 21,
      "metadata": {
        "id": "vYHxbnk8Oz81",
        "colab": {
          "base_uri": "https://localhost:8080/"
        },
        "outputId": "b7a208fe-5eaf-4336-87c2-846a31292b49"
      },
      "outputs": [
        {
          "output_type": "execute_result",
          "data": {
            "text/plain": [
              "str"
            ]
          },
          "metadata": {},
          "execution_count": 21
        }
      ],
      "source": [
        "# Check the data type of the My_Name variable\n",
        "type(My_Name)"
      ]
    },
    {
      "cell_type": "markdown",
      "source": [
        "You can combine string methods with print statements to request information from a user. This uses the `input` statement and gives users a blinking cursor to enter information.\n",
        "\n",
        "Complex print statements are also possible where it prints string text, the contents of a variable, and even perform small operations in the statement and return the results. In the example below we will create a variable called `my_name` and use the input method to ask the user to input their name. From there we can print a statement saying hello, the user's entered name, and some punctuation. In the next print statement we can use the `type()` method to print the data type of the variable `my_name`."
      ],
      "metadata": {
        "id": "8-U9oGeoR9Mb"
      }
    },
    {
      "cell_type": "code",
      "execution_count": 33,
      "metadata": {
        "id": "g138tt3WOz81",
        "colab": {
          "base_uri": "https://localhost:8080/"
        },
        "outputId": "5cc77955-5159-43f3-aed9-7223ad47fc45"
      },
      "outputs": [
        {
          "output_type": "stream",
          "name": "stdout",
          "text": [
            "What is your name?Garima Rokaya\n",
            "Hello Garima Rokaya\n",
            "Your name is a  <class 'str'>\n"
          ]
        }
      ],
      "source": [
        "# Your turn to play around now.\n",
        "# Use the input statement to ask a user to enter their name\n",
        "# Syntax looks like this: descriptiveVariableName = input(\"Question to be asked? \")\n",
        "name = input(\"What is your name?\")\n",
        "\n",
        "# Use a print statement to check your input. Add a greeting to your statement.\n",
        "# Syntax looks like this: print(\"Greeting\", descriptiveVariableName, \"!\")\n",
        "print(\"Hello\", name)\n",
        "\n",
        "# Now use a print statement to tell the user the data type.\n",
        "# Syntax looks like this: print(\"Your name is a \",type(descriptiveVariableName))\n",
        "print(\"Your name is a \", type(name))\n",
        "\n"
      ]
    },
    {
      "cell_type": "markdown",
      "metadata": {
        "id": "5bEdKCA0Oz81"
      },
      "source": [
        "Various functions can be performed using strings like searching within a string, conversion to lowercase/uppercase, count, length, splitting, replacing, trimming, partitioning etc."
      ]
    },
    {
      "cell_type": "code",
      "execution_count": 34,
      "metadata": {
        "id": "d3CVN5izOz81",
        "colab": {
          "base_uri": "https://localhost:8080/"
        },
        "outputId": "3f7c59ed-54bf-4eed-c2f6-d75dfc5380ac"
      },
      "outputs": [
        {
          "output_type": "stream",
          "name": "stdout",
          "text": [
            "What is your name?Garima\n",
            "Your name has 6 characters\n"
          ]
        }
      ],
      "source": [
        "# Let's check how many characters does your name contain.\n",
        "# Syntax: len(variableName)\n",
        "count = input(\"What is your name?\")\n",
        "len(count)\n",
        "print(\"Your name has\", len(count), \"characters\")"
      ]
    },
    {
      "cell_type": "code",
      "execution_count": 35,
      "metadata": {
        "id": "q-yeOolwOz82",
        "colab": {
          "base_uri": "https://localhost:8080/"
        },
        "outputId": "1ae3b1fb-db78-4a41-e939-fc148be58235"
      },
      "outputs": [
        {
          "output_type": "execute_result",
          "data": {
            "text/plain": [
              "False"
            ]
          },
          "metadata": {},
          "execution_count": 35
        }
      ],
      "source": [
        "# Let's see if My_Name is all Caps or not.\n",
        "# isupper() returns True if all the letters are Capitals, False if atleast one letter in in lower case.\n",
        "# Syntax: variableName.isupper()\n",
        "My_Name.isupper()\n"
      ]
    },
    {
      "cell_type": "code",
      "execution_count": 39,
      "metadata": {
        "id": "RQfxPz_KOz82",
        "colab": {
          "base_uri": "https://localhost:8080/",
          "height": 35
        },
        "outputId": "855719eb-3abc-400c-ff05-a1038dc18d97"
      },
      "outputs": [
        {
          "output_type": "execute_result",
          "data": {
            "text/plain": [
              "'GARIMA ROKAYA'"
            ],
            "application/vnd.google.colaboratory.intrinsic+json": {
              "type": "string"
            }
          },
          "metadata": {},
          "execution_count": 39
        }
      ],
      "source": [
        "# Let's convert My_Name to all caps.\n",
        "# Syntax: variableName = variableName.upper()\n",
        "\n",
        "My_Name = My_Name.upper()\n",
        "# Call the variable using the variable name.\n",
        "\n",
        "My_Name\n"
      ]
    },
    {
      "cell_type": "code",
      "execution_count": 40,
      "metadata": {
        "id": "CnxJVlo0Oz82",
        "colab": {
          "base_uri": "https://localhost:8080/"
        },
        "outputId": "b8919a82-a9d7-420a-a65f-97a58be9de72"
      },
      "outputs": [
        {
          "output_type": "execute_result",
          "data": {
            "text/plain": [
              "True"
            ]
          },
          "metadata": {},
          "execution_count": 40
        }
      ],
      "source": [
        "# Check the uppercase again,\n",
        "# Now the output of isupper() changes to True.\n",
        "\n",
        "My_Name.isupper()"
      ]
    },
    {
      "cell_type": "code",
      "execution_count": 60,
      "metadata": {
        "id": "HHKRD0eKOz83",
        "colab": {
          "base_uri": "https://localhost:8080/"
        },
        "outputId": "14059896-6384-47b7-ec16-cb228a791ac5"
      },
      "outputs": [
        {
          "output_type": "stream",
          "name": "stdout",
          "text": [
            "I am learning coding.\n",
            "I am learning coding.\n",
            "I AM LEARNING CODING.\n",
            "I am learning coding.\n",
            "I Am Learning Coding.\n"
          ]
        }
      ],
      "source": [
        "# Your turn to try it now.\n",
        "# Write a sentence and store it into an object.\n",
        "# Don't forget quotation marks for strings\n",
        "new_sentence = (\"I am learning coding.\")\n",
        "print (new_sentence)\n",
        "\n",
        "# Check the data type of the object.\n",
        "type(new_sentence)\n",
        "\n",
        "# Use a print statement to view your new_sentence\n",
        "print(new_sentence)\n",
        "# Use the .upper() method in a print statement to print the upper case sentence\n",
        "# HINT: Use a print statement, your variable name, and the .upper() method\n",
        "print(new_sentence.upper())\n",
        "\n",
        "# Use the .capitalize() method to print the sentence with the first word capitalized.\n",
        "\n",
        "print(new_sentence.capitalize())\n",
        "# Use the .title() method to print the sentence with the first letter of each word capitalized.\n",
        "print(new_sentence.title())\n"
      ]
    },
    {
      "cell_type": "code",
      "execution_count": 61,
      "metadata": {
        "id": "_RU2iVcdOz83",
        "colab": {
          "base_uri": "https://localhost:8080/"
        },
        "outputId": "1d61d75f-8051-4e9b-8f42-a58320506136"
      },
      "outputs": [
        {
          "output_type": "execute_result",
          "data": {
            "text/plain": [
              "str"
            ]
          },
          "metadata": {},
          "execution_count": 61
        }
      ],
      "source": [
        "# Check the data type of the object you just created.\n",
        "type(new_sentence)"
      ]
    },
    {
      "cell_type": "code",
      "execution_count": 62,
      "metadata": {
        "id": "zTwyEacgOz83",
        "colab": {
          "base_uri": "https://localhost:8080/"
        },
        "outputId": "e9ba0b69-367c-4ca0-cf82-d2042d7279c5"
      },
      "outputs": [
        {
          "output_type": "execute_result",
          "data": {
            "text/plain": [
              "False"
            ]
          },
          "metadata": {},
          "execution_count": 62
        }
      ],
      "source": [
        "# Check if it is all caps or not.\n",
        "# Syntax: variableName.isupper()\n",
        "\n",
        "new_sentence.isupper()\n"
      ]
    },
    {
      "cell_type": "code",
      "execution_count": 63,
      "metadata": {
        "id": "OFuwYxoHOz83",
        "colab": {
          "base_uri": "https://localhost:8080/"
        },
        "outputId": "9580c5f1-ef64-4e72-be71-5f0ad11832f7"
      },
      "outputs": [
        {
          "output_type": "execute_result",
          "data": {
            "text/plain": [
              "False"
            ]
          },
          "metadata": {},
          "execution_count": 63
        }
      ],
      "source": [
        "# Challenge - Check if it is all lower case or not.\n",
        "# Use the example above to complete the challenge question\n",
        "new_sentence.islower()"
      ]
    },
    {
      "cell_type": "code",
      "execution_count": 64,
      "metadata": {
        "id": "gQTsgka1Oz84",
        "colab": {
          "base_uri": "https://localhost:8080/"
        },
        "outputId": "0b1c91e6-9c75-4355-8399-ddb387626cb6"
      },
      "outputs": [
        {
          "output_type": "stream",
          "name": "stdout",
          "text": [
            "I AM LEARNING CODING.\n"
          ]
        }
      ],
      "source": [
        "# Challenge - Convert your object into all caps.\n",
        "\n",
        "print (new_sentence.upper())"
      ]
    },
    {
      "cell_type": "code",
      "execution_count": 68,
      "metadata": {
        "id": "FfURhkuaOz84",
        "colab": {
          "base_uri": "https://localhost:8080/"
        },
        "outputId": "da9abe79-3870-4501-d20e-6505c09c52ca"
      },
      "outputs": [
        {
          "output_type": "stream",
          "name": "stdout",
          "text": [
            "i am learning coding.\n"
          ]
        }
      ],
      "source": [
        "# Challenge - Convert your object into all lower case.\n",
        "\n",
        "print(new_sentence.lower())"
      ]
    },
    {
      "cell_type": "markdown",
      "metadata": {
        "id": "zpLbuwP6Oz84"
      },
      "source": [
        "## Boolean Data Type"
      ]
    },
    {
      "cell_type": "markdown",
      "metadata": {
        "id": "IXJ4iCMgOz84"
      },
      "source": [
        "The boolean data type has just two values, i.e., True or False."
      ]
    },
    {
      "cell_type": "code",
      "execution_count": 69,
      "metadata": {
        "id": "Qzolj8lPOz85",
        "colab": {
          "base_uri": "https://localhost:8080/"
        },
        "outputId": "d61e4a39-f994-4690-b253-3c7a4c948fc2"
      },
      "outputs": [
        {
          "output_type": "execute_result",
          "data": {
            "text/plain": [
              "bool"
            ]
          },
          "metadata": {},
          "execution_count": 69
        }
      ],
      "source": [
        "# Create two variables, one with a value of True, one with a value of False\n",
        "Garima = True\n",
        "Rokaya = False\n",
        "\n",
        "# Check the data type of your variables.\n",
        "type(Garima)\n",
        "type(Rokaya)\n"
      ]
    },
    {
      "cell_type": "code",
      "execution_count": 79,
      "metadata": {
        "id": "53_SQLshOz85",
        "colab": {
          "base_uri": "https://localhost:8080/"
        },
        "outputId": "49f5fabb-a24c-406e-b7a5-d35cf708c37b"
      },
      "outputs": [
        {
          "output_type": "execute_result",
          "data": {
            "text/plain": [
              "(bool, bool)"
            ]
          },
          "metadata": {},
          "execution_count": 79
        }
      ],
      "source": [
        "# Check the data type of your new variables\n",
        "# HINT: you can check multiple items by separating the statements with a comma\n",
        "type(Garima),type(Rokaya)\n"
      ]
    },
    {
      "cell_type": "markdown",
      "metadata": {
        "id": "JnXKU29fOz85"
      },
      "source": [
        "## Data Type Conversions"
      ]
    },
    {
      "cell_type": "markdown",
      "metadata": {
        "id": "xxFOfebXOz85"
      },
      "source": [
        "As explained earlier, data should be stored in correct form so that it can be manipulated efficiently later.\n",
        "Quite a lot of times, data is not stored correctly or it gets imported incorrectly.\n",
        "In such cases, data needs to be converted to its correct type so that it can be optimally used in our analysis.\n",
        "Thus, let's look at data type conversion exercises to get you comfortable with the process."
      ]
    },
    {
      "cell_type": "code",
      "execution_count": 89,
      "metadata": {
        "id": "8aGHMkW7Oz86",
        "colab": {
          "base_uri": "https://localhost:8080/"
        },
        "outputId": "4f7c3785-fde5-4df1-8c10-8a0158d63d60"
      },
      "outputs": [
        {
          "output_type": "execute_result",
          "data": {
            "text/plain": [
              "int"
            ]
          },
          "metadata": {},
          "execution_count": 89
        }
      ],
      "source": [
        "# Create an object containing an integer.\n",
        "xyz = 6\n",
        "type(xyz)"
      ]
    },
    {
      "cell_type": "code",
      "execution_count": 90,
      "metadata": {
        "id": "-dQdECzdOz86",
        "colab": {
          "base_uri": "https://localhost:8080/"
        },
        "outputId": "d5709dd9-ac44-4fbb-c77b-ae4c03f6a978"
      },
      "outputs": [
        {
          "output_type": "execute_result",
          "data": {
            "text/plain": [
              "int"
            ]
          },
          "metadata": {},
          "execution_count": 90
        }
      ],
      "source": [
        "# Check the data type of your new object\n",
        "type(xyz)\n"
      ]
    },
    {
      "cell_type": "code",
      "execution_count": 93,
      "metadata": {
        "id": "T30wagKUOz86"
      },
      "outputs": [],
      "source": [
        "# You want to use the value 1 as text. So let's convert it.\n",
        "# Syntax: variableName = str(variableName)\n",
        "variableName = 1\n",
        "variableName = str(variableName)\n"
      ]
    },
    {
      "cell_type": "code",
      "execution_count": 94,
      "metadata": {
        "id": "FMEvdM1WOz86",
        "colab": {
          "base_uri": "https://localhost:8080/"
        },
        "outputId": "80270246-2c1d-4041-dffd-e2f87f4c64d8"
      },
      "outputs": [
        {
          "output_type": "execute_result",
          "data": {
            "text/plain": [
              "str"
            ]
          },
          "metadata": {},
          "execution_count": 94
        }
      ],
      "source": [
        "# Check the data type of your new object again.\n",
        "type(variableName)"
      ]
    },
    {
      "cell_type": "code",
      "execution_count": 95,
      "metadata": {
        "id": "8j-uQXBaOz9S",
        "colab": {
          "base_uri": "https://localhost:8080/"
        },
        "outputId": "fb187049-b81d-4047-f98e-eafe108404a1"
      },
      "outputs": [
        {
          "output_type": "execute_result",
          "data": {
            "text/plain": [
              "str"
            ]
          },
          "metadata": {},
          "execution_count": 95
        }
      ],
      "source": [
        "# Exercise for you. Store the number 123456 as string.\n",
        "string = 123456\n",
        "string = str(string)\n",
        "type(string)\n",
        "# Check the data type\n",
        "\n"
      ]
    },
    {
      "cell_type": "code",
      "execution_count": 96,
      "metadata": {
        "id": "b5CuVvSQOz9T",
        "colab": {
          "base_uri": "https://localhost:8080/"
        },
        "outputId": "535c7e6b-ea84-4618-e12c-f7bf876adde7"
      },
      "outputs": [
        {
          "output_type": "execute_result",
          "data": {
            "text/plain": [
              "str"
            ]
          },
          "metadata": {},
          "execution_count": 96
        }
      ],
      "source": [
        "# Let's do the opposite now.\n",
        "# Create a variable and assign a numeric value as a string\n",
        "# HINT: Any value inside of quotes is a string\n",
        "numeric = \"123456\"\n",
        "type(numeric)\n",
        "# Check the data type of your variable\n",
        "\n"
      ]
    },
    {
      "cell_type": "code",
      "execution_count": 97,
      "metadata": {
        "id": "uomNdG-OOz9T",
        "colab": {
          "base_uri": "https://localhost:8080/"
        },
        "outputId": "7e92a84b-1f33-4be9-cf4b-2899af8b0113"
      },
      "outputs": [
        {
          "output_type": "execute_result",
          "data": {
            "text/plain": [
              "int"
            ]
          },
          "metadata": {},
          "execution_count": 97
        }
      ],
      "source": [
        "# Let's learn to convert string to integer now.\n",
        "# Syntax: variableName = int(variableName)\n",
        "\n",
        "numeric = int(numeric)\n",
        "type(numeric)\n",
        "# Check the data type\n",
        "\n"
      ]
    },
    {
      "cell_type": "code",
      "execution_count": 100,
      "metadata": {
        "id": "p6c6Oj-oOz9T",
        "colab": {
          "base_uri": "https://localhost:8080/"
        },
        "outputId": "7ffb1161-632a-4091-ce0a-56b6e1bd0429"
      },
      "outputs": [
        {
          "output_type": "execute_result",
          "data": {
            "text/plain": [
              "float"
            ]
          },
          "metadata": {},
          "execution_count": 100
        }
      ],
      "source": [
        "# Let's convert a string to a float.\n",
        "# Syntax: variableName = float(variableName)\n",
        "num = Garima\n",
        "num = float(num)\n",
        "type(num)\n",
        "# Check the data type\n"
      ]
    },
    {
      "cell_type": "markdown",
      "metadata": {
        "id": "9QBKh6rWOz9U"
      },
      "source": [
        "Good job so far!\n",
        "You can also try converting strings to boolean and vice versa.\n",
        "You could also try conversions from integers to float and float to integer.\n",
        "\n",
        "Python is an intuitive language, so by default it stores data into correct formats.\n",
        "But very often we come across data being stored incorrectly especially while importing."
      ]
    }
  ]
}